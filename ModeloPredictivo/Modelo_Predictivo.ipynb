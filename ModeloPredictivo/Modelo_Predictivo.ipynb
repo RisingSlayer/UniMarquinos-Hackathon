{
 "cells": [
  {
   "cell_type": "code",
   "execution_count": 1,
   "id": "1fb7c781-7c83-4dbe-b6f5-ea74fe09aee5",
   "metadata": {
    "tags": []
   },
   "outputs": [],
   "source": [
    "import pandas as pd\n",
    "from sklearn.linear_model import LinearRegression\n",
    "import matplotlib.pyplot as plt\n",
    "import seaborn as sns"
   ]
  },
  {
   "cell_type": "code",
   "execution_count": 2,
   "id": "f7219ca1-e61b-46ab-88b9-50cbad59b506",
   "metadata": {
    "tags": []
   },
   "outputs": [],
   "source": [
    "pd.set_option('display.max_columns', None)\n",
    "global df_denuncias, resultados"
   ]
  },
  {
   "cell_type": "code",
   "execution_count": 3,
   "id": "4086d75c-c3b6-4ffe-b1a6-d6edc66f286c",
   "metadata": {
    "tags": []
   },
   "outputs": [
    {
     "data": {
      "text/html": [
       "<div>\n",
       "<style scoped>\n",
       "    .dataframe tbody tr th:only-of-type {\n",
       "        vertical-align: middle;\n",
       "    }\n",
       "\n",
       "    .dataframe tbody tr th {\n",
       "        vertical-align: top;\n",
       "    }\n",
       "\n",
       "    .dataframe thead th {\n",
       "        text-align: right;\n",
       "    }\n",
       "</style>\n",
       "<table border=\"1\" class=\"dataframe\">\n",
       "  <thead>\n",
       "    <tr style=\"text-align: right;\">\n",
       "      <th></th>\n",
       "      <th>periodo_denuncia</th>\n",
       "      <th>anio_denuncia</th>\n",
       "      <th>Fecha_descarga</th>\n",
       "      <th>distrito_fiscal</th>\n",
       "      <th>especialidad</th>\n",
       "      <th>tipo_caso</th>\n",
       "      <th>generico</th>\n",
       "      <th>subgenerico</th>\n",
       "      <th>articulo</th>\n",
       "      <th>des_articulo</th>\n",
       "      <th>cantidad</th>\n",
       "      <th>ubigeo_pjfs</th>\n",
       "      <th>dpto_pjfs</th>\n",
       "      <th>prov_pjfs</th>\n",
       "      <th>dist_pjfs</th>\n",
       "      <th>fecha_corte</th>\n",
       "    </tr>\n",
       "  </thead>\n",
       "  <tbody>\n",
       "    <tr>\n",
       "      <th>0</th>\n",
       "      <td>ENERO - DICIEMBRE</td>\n",
       "      <td>2022</td>\n",
       "      <td>06/01/2023</td>\n",
       "      <td>AMAZONAS</td>\n",
       "      <td>PENAL</td>\n",
       "      <td>DENUNCIA</td>\n",
       "      <td>CONTRA EL HONOR</td>\n",
       "      <td>CONTRA EL HONOR (Sin especificar delito subgen...</td>\n",
       "      <td>S/Art</td>\n",
       "      <td>CONTRA EL HONOR</td>\n",
       "      <td>4</td>\n",
       "      <td>10101</td>\n",
       "      <td>AMAZONAS</td>\n",
       "      <td>CHACHAPOYAS</td>\n",
       "      <td>CHACHAPOYAS</td>\n",
       "      <td>15/06/2023</td>\n",
       "    </tr>\n",
       "    <tr>\n",
       "      <th>1</th>\n",
       "      <td>ENERO - DICIEMBRE</td>\n",
       "      <td>2022</td>\n",
       "      <td>06/01/2023</td>\n",
       "      <td>AMAZONAS</td>\n",
       "      <td>PENAL</td>\n",
       "      <td>DENUNCIA</td>\n",
       "      <td>CONTRA EL HONOR</td>\n",
       "      <td>INJURIA,CALUMNIA Y DIFAMACION</td>\n",
       "      <td>130</td>\n",
       "      <td>Injuria</td>\n",
       "      <td>1</td>\n",
       "      <td>10101</td>\n",
       "      <td>AMAZONAS</td>\n",
       "      <td>CHACHAPOYAS</td>\n",
       "      <td>CHACHAPOYAS</td>\n",
       "      <td>15/06/2023</td>\n",
       "    </tr>\n",
       "    <tr>\n",
       "      <th>2</th>\n",
       "      <td>ENERO - DICIEMBRE</td>\n",
       "      <td>2022</td>\n",
       "      <td>06/01/2023</td>\n",
       "      <td>AMAZONAS</td>\n",
       "      <td>PENAL</td>\n",
       "      <td>DENUNCIA</td>\n",
       "      <td>CONTRA EL HONOR</td>\n",
       "      <td>INJURIA,CALUMNIA Y DIFAMACION</td>\n",
       "      <td>131</td>\n",
       "      <td>Calumnia</td>\n",
       "      <td>4</td>\n",
       "      <td>10101</td>\n",
       "      <td>AMAZONAS</td>\n",
       "      <td>CHACHAPOYAS</td>\n",
       "      <td>CHACHAPOYAS</td>\n",
       "      <td>15/06/2023</td>\n",
       "    </tr>\n",
       "    <tr>\n",
       "      <th>3</th>\n",
       "      <td>ENERO - DICIEMBRE</td>\n",
       "      <td>2022</td>\n",
       "      <td>06/01/2023</td>\n",
       "      <td>AMAZONAS</td>\n",
       "      <td>PENAL</td>\n",
       "      <td>DENUNCIA</td>\n",
       "      <td>CONTRA EL HONOR</td>\n",
       "      <td>INJURIA,CALUMNIA Y DIFAMACION</td>\n",
       "      <td>132</td>\n",
       "      <td>Difamación</td>\n",
       "      <td>7</td>\n",
       "      <td>10101</td>\n",
       "      <td>AMAZONAS</td>\n",
       "      <td>CHACHAPOYAS</td>\n",
       "      <td>CHACHAPOYAS</td>\n",
       "      <td>15/06/2023</td>\n",
       "    </tr>\n",
       "    <tr>\n",
       "      <th>4</th>\n",
       "      <td>ENERO - DICIEMBRE</td>\n",
       "      <td>2022</td>\n",
       "      <td>06/01/2023</td>\n",
       "      <td>AMAZONAS</td>\n",
       "      <td>PENAL</td>\n",
       "      <td>DENUNCIA</td>\n",
       "      <td>CONTRA EL HONOR</td>\n",
       "      <td>INJURIA,CALUMNIA Y DIFAMACION</td>\n",
       "      <td>S/Art</td>\n",
       "      <td>INJURIA, CALUMNIA Y DIFAMACIÓN</td>\n",
       "      <td>1</td>\n",
       "      <td>10101</td>\n",
       "      <td>AMAZONAS</td>\n",
       "      <td>CHACHAPOYAS</td>\n",
       "      <td>CHACHAPOYAS</td>\n",
       "      <td>15/06/2023</td>\n",
       "    </tr>\n",
       "  </tbody>\n",
       "</table>\n",
       "</div>"
      ],
      "text/plain": [
       "    periodo_denuncia  anio_denuncia Fecha_descarga distrito_fiscal  \\\n",
       "0  ENERO - DICIEMBRE           2022     06/01/2023        AMAZONAS   \n",
       "1  ENERO - DICIEMBRE           2022     06/01/2023        AMAZONAS   \n",
       "2  ENERO - DICIEMBRE           2022     06/01/2023        AMAZONAS   \n",
       "3  ENERO - DICIEMBRE           2022     06/01/2023        AMAZONAS   \n",
       "4  ENERO - DICIEMBRE           2022     06/01/2023        AMAZONAS   \n",
       "\n",
       "  especialidad tipo_caso         generico  \\\n",
       "0        PENAL  DENUNCIA  CONTRA EL HONOR   \n",
       "1        PENAL  DENUNCIA  CONTRA EL HONOR   \n",
       "2        PENAL  DENUNCIA  CONTRA EL HONOR   \n",
       "3        PENAL  DENUNCIA  CONTRA EL HONOR   \n",
       "4        PENAL  DENUNCIA  CONTRA EL HONOR   \n",
       "\n",
       "                                         subgenerico articulo  \\\n",
       "0  CONTRA EL HONOR (Sin especificar delito subgen...    S/Art   \n",
       "1                      INJURIA,CALUMNIA Y DIFAMACION      130   \n",
       "2                      INJURIA,CALUMNIA Y DIFAMACION      131   \n",
       "3                      INJURIA,CALUMNIA Y DIFAMACION      132   \n",
       "4                      INJURIA,CALUMNIA Y DIFAMACION    S/Art   \n",
       "\n",
       "                     des_articulo  cantidad  ubigeo_pjfs dpto_pjfs  \\\n",
       "0                 CONTRA EL HONOR         4        10101  AMAZONAS   \n",
       "1                         Injuria         1        10101  AMAZONAS   \n",
       "2                        Calumnia         4        10101  AMAZONAS   \n",
       "3                      Difamación         7        10101  AMAZONAS   \n",
       "4  INJURIA, CALUMNIA Y DIFAMACIÓN         1        10101  AMAZONAS   \n",
       "\n",
       "     prov_pjfs    dist_pjfs fecha_corte  \n",
       "0  CHACHAPOYAS  CHACHAPOYAS  15/06/2023  \n",
       "1  CHACHAPOYAS  CHACHAPOYAS  15/06/2023  \n",
       "2  CHACHAPOYAS  CHACHAPOYAS  15/06/2023  \n",
       "3  CHACHAPOYAS  CHACHAPOYAS  15/06/2023  \n",
       "4  CHACHAPOYAS  CHACHAPOYAS  15/06/2023  "
      ]
     },
     "execution_count": 3,
     "metadata": {},
     "output_type": "execute_result"
    }
   ],
   "source": [
    "df_denuncias = pd.read_csv('delitos denunciados 2022.csv')\n",
    "df_denuncias.head()"
   ]
  },
  {
   "cell_type": "code",
   "execution_count": 4,
   "id": "e386c281-7218-41cd-b8ed-f8296d8ca7aa",
   "metadata": {
    "tags": []
   },
   "outputs": [
    {
     "data": {
      "text/html": [
       "<div>\n",
       "<style scoped>\n",
       "    .dataframe tbody tr th:only-of-type {\n",
       "        vertical-align: middle;\n",
       "    }\n",
       "\n",
       "    .dataframe tbody tr th {\n",
       "        vertical-align: top;\n",
       "    }\n",
       "\n",
       "    .dataframe thead th {\n",
       "        text-align: right;\n",
       "    }\n",
       "</style>\n",
       "<table border=\"1\" class=\"dataframe\">\n",
       "  <thead>\n",
       "    <tr style=\"text-align: right;\">\n",
       "      <th></th>\n",
       "      <th>distrito_fiscal</th>\n",
       "      <th>generico</th>\n",
       "      <th>subgenerico</th>\n",
       "      <th>cantidad</th>\n",
       "      <th>prov_pjfs</th>\n",
       "      <th>dist_pjfs</th>\n",
       "    </tr>\n",
       "  </thead>\n",
       "  <tbody>\n",
       "    <tr>\n",
       "      <th>0</th>\n",
       "      <td>AMAZONAS</td>\n",
       "      <td>CONTRA EL HONOR</td>\n",
       "      <td>CONTRA EL HONOR (Sin especificar delito subgen...</td>\n",
       "      <td>4</td>\n",
       "      <td>CHACHAPOYAS</td>\n",
       "      <td>CHACHAPOYAS</td>\n",
       "    </tr>\n",
       "    <tr>\n",
       "      <th>1</th>\n",
       "      <td>AMAZONAS</td>\n",
       "      <td>CONTRA EL HONOR</td>\n",
       "      <td>INJURIA,CALUMNIA Y DIFAMACION</td>\n",
       "      <td>1</td>\n",
       "      <td>CHACHAPOYAS</td>\n",
       "      <td>CHACHAPOYAS</td>\n",
       "    </tr>\n",
       "    <tr>\n",
       "      <th>2</th>\n",
       "      <td>AMAZONAS</td>\n",
       "      <td>CONTRA EL HONOR</td>\n",
       "      <td>INJURIA,CALUMNIA Y DIFAMACION</td>\n",
       "      <td>4</td>\n",
       "      <td>CHACHAPOYAS</td>\n",
       "      <td>CHACHAPOYAS</td>\n",
       "    </tr>\n",
       "    <tr>\n",
       "      <th>3</th>\n",
       "      <td>AMAZONAS</td>\n",
       "      <td>CONTRA EL HONOR</td>\n",
       "      <td>INJURIA,CALUMNIA Y DIFAMACION</td>\n",
       "      <td>7</td>\n",
       "      <td>CHACHAPOYAS</td>\n",
       "      <td>CHACHAPOYAS</td>\n",
       "    </tr>\n",
       "    <tr>\n",
       "      <th>4</th>\n",
       "      <td>AMAZONAS</td>\n",
       "      <td>CONTRA EL HONOR</td>\n",
       "      <td>INJURIA,CALUMNIA Y DIFAMACION</td>\n",
       "      <td>1</td>\n",
       "      <td>CHACHAPOYAS</td>\n",
       "      <td>CHACHAPOYAS</td>\n",
       "    </tr>\n",
       "  </tbody>\n",
       "</table>\n",
       "</div>"
      ],
      "text/plain": [
       "  distrito_fiscal         generico  \\\n",
       "0        AMAZONAS  CONTRA EL HONOR   \n",
       "1        AMAZONAS  CONTRA EL HONOR   \n",
       "2        AMAZONAS  CONTRA EL HONOR   \n",
       "3        AMAZONAS  CONTRA EL HONOR   \n",
       "4        AMAZONAS  CONTRA EL HONOR   \n",
       "\n",
       "                                         subgenerico  cantidad    prov_pjfs  \\\n",
       "0  CONTRA EL HONOR (Sin especificar delito subgen...         4  CHACHAPOYAS   \n",
       "1                      INJURIA,CALUMNIA Y DIFAMACION         1  CHACHAPOYAS   \n",
       "2                      INJURIA,CALUMNIA Y DIFAMACION         4  CHACHAPOYAS   \n",
       "3                      INJURIA,CALUMNIA Y DIFAMACION         7  CHACHAPOYAS   \n",
       "4                      INJURIA,CALUMNIA Y DIFAMACION         1  CHACHAPOYAS   \n",
       "\n",
       "     dist_pjfs  \n",
       "0  CHACHAPOYAS  \n",
       "1  CHACHAPOYAS  \n",
       "2  CHACHAPOYAS  \n",
       "3  CHACHAPOYAS  \n",
       "4  CHACHAPOYAS  "
      ]
     },
     "execution_count": 4,
     "metadata": {},
     "output_type": "execute_result"
    }
   ],
   "source": [
    "columnas_deseadas = ['distrito_fiscal', 'generico', 'subgenerico', 'cantidad', 'prov_pjfs', 'dist_pjfs']\n",
    "df_modificado = df_denuncias.loc[:, columnas_deseadas]\n",
    "df_modificado.head()"
   ]
  },
  {
   "cell_type": "code",
   "execution_count": 5,
   "id": "f86c17ae-eef3-45fb-a862-41dfe1d903f1",
   "metadata": {
    "tags": []
   },
   "outputs": [
    {
     "data": {
      "text/plain": [
       "(9152, 6)"
      ]
     },
     "execution_count": 5,
     "metadata": {},
     "output_type": "execute_result"
    }
   ],
   "source": [
    "df_modificado.shape"
   ]
  },
  {
   "cell_type": "code",
   "execution_count": 6,
   "id": "a9cb7a25-8f6a-489a-85f3-ac95aa9b23ef",
   "metadata": {
    "tags": []
   },
   "outputs": [
    {
     "name": "stdout",
     "output_type": "stream",
     "text": [
      "<class 'pandas.core.frame.DataFrame'>\n",
      "RangeIndex: 9152 entries, 0 to 9151\n",
      "Data columns (total 6 columns):\n",
      " #   Column           Non-Null Count  Dtype \n",
      "---  ------           --------------  ----- \n",
      " 0   distrito_fiscal  9152 non-null   object\n",
      " 1   generico         9152 non-null   object\n",
      " 2   subgenerico      9152 non-null   object\n",
      " 3   cantidad         9152 non-null   int64 \n",
      " 4   prov_pjfs        9152 non-null   object\n",
      " 5   dist_pjfs        9152 non-null   object\n",
      "dtypes: int64(1), object(5)\n",
      "memory usage: 429.1+ KB\n"
     ]
    }
   ],
   "source": [
    "df_modificado.info()"
   ]
  },
  {
   "cell_type": "code",
   "execution_count": 7,
   "id": "5cc25bc6-b4e6-472e-a5de-68524d846850",
   "metadata": {
    "tags": []
   },
   "outputs": [
    {
     "data": {
      "text/plain": [
       "['distrito_fiscal', 'generico', 'subgenerico', 'prov_pjfs', 'dist_pjfs']"
      ]
     },
     "execution_count": 7,
     "metadata": {},
     "output_type": "execute_result"
    }
   ],
   "source": [
    "columns = list(df_modificado.select_dtypes(include = [\"object\"]).columns)\n",
    "columns"
   ]
  },
  {
   "cell_type": "code",
   "execution_count": 8,
   "id": "37252596-ab25-4275-887d-4b42aaea86f3",
   "metadata": {
    "tags": []
   },
   "outputs": [
    {
     "name": "stdout",
     "output_type": "stream",
     "text": [
      "El nombre de la columna: distrito_fiscal\n",
      "['LIMA CENTRO', 'AREQUIPA', 'LIMA NORTE', 'HUANUCO', 'LORETO', 'CUSCO', 'PUNO', 'LA LIBERTAD', 'LAMBAYEQUE', 'PIURA', 'CAJAMARCA', 'LIMA ESTE', 'AYACUCHO', 'JUNIN', 'ICA', 'ANCASH', 'AMAZONAS', 'LIMA SUR', 'UCAYALI', 'SANTA', 'MADRE DE DIOS', 'CALLAO', 'APURIMAC', 'TACNA', 'HUAURA', 'CAÑETE', 'SAN MARTIN', 'MOQUEGUA', 'SELVA CENTRAL', 'SULLANA', 'HUANCAVELICA', 'LIMA NOROESTE', 'PASCO', 'TUMBES']\n",
      "\n",
      "\n",
      "El nombre de la columna: generico\n",
      "['CONTRA LA ADMINISTRACION PUBLICA', 'CONTRA LA LIBERTAD', 'CONTRA EL PATRIMONIO', 'CONTRA LA SEGURIDAD PUBLICA', 'CONTRA LA VIDA/EL CUERPO Y LA SALUD', 'DELITOS AMBIENTALES', 'CONTRA LA FE PUBLICA', 'LEY Nº 30096, LEY DE DELITOS INFORMATICOS', 'CONTRA LA TRANQUILIDAD PUBLICA', 'CONTRA LA FAMILIA', 'CONTRA EL ORDEN FINANCIERO Y MONETARIO', 'CONTRA LA VOLUNTAD POPULAR', 'CONTRA LOS DERECHOS INTELECTUALES', 'DELITOS ADUANEROS (LEY 28008)', 'CONTRA LA HUMANIDAD', 'D.LEG. 1106 LAVADO DE ACTIVOS', 'CONTRA EL HONOR', 'CONTRA LA CONF.Y.LA.BUEN.FE.EN.NEGOCIOS', 'D.LEG 813. LEY PENAL TRIBUTARIA', 'CONTRA EL ORDEN ECONOMICO', 'CONTRA EL PATRIMONIO CULTURAL', 'CONTRA EL ESTADO Y LA DEFENSA NACIONAL', 'LEY 26859, LEY ORGANICA DE ELECCIONES', 'CONTRA LOS PODERES DEL ESTADO Y ORDEN CONSTITUCIONAL', 'DELITOS TRIBUTARIOS', 'NO TIPIFICADOS', 'TENTATIVA']\n",
      "\n",
      "\n",
      "El nombre de la columna: subgenerico\n",
      "['DELITOS COMETIDOS POR FUNCIONARIOS PUBLICOS', 'DELITOS CONTRA LA ADMINISTRACION DE JUSTICIA', 'CONTRA LA SALUD PUBLICA (CONTAMINACION Y PROPAGACION, TRAFICO ILICITO DE DROGAS)', 'DELITOS COMETIDOS POR PARTICULARES', 'DELITO DE PELIGRO COMUN', 'VIOLACION DE LA LIBERTAD SEXUAL', 'HOMICIDIO', 'VIOLACION DE LA LIBERTAD PERSONAL', 'LESIONES', 'DELITOS CONTRA LOS RECURSOS NATURALES', 'FALSIFICACION DE DOCUMENTOS EN GENERAL', 'DELITOS CONTRA LA PAZ PUBLICA', 'DELITOS DE CONTAMINACION', 'DELITOS CONTRA EL DERECHO AL SUFRAGIO', 'EXPOSICION A PELIGRO O ABANDONO DE PERSONAS EN PELIGRO', 'ABORTO', 'DAÑOS', 'APROPIACION ILICITA', 'HURTO', 'ESTAFA Y OTRAS DEFRAUDACIONES', 'DELITOS MONETARIOS', 'USURPACION', 'VIOLACION DE LA INTIMIDAD', 'LAVADO DE ACTIVOS', 'CONTRA LOS MEDIOS DE TRANSP., COMUNIC. Y OTROS SERV. PÚBLICOS', 'DISPOSICIONES COMUNES', 'OFENSAS AL PUDOR PUBLICO', 'INJURIA,CALUMNIA Y DIFAMACION', 'RECEPTACION', 'ROBO', 'ABIGEATO', 'EXTORSION', 'VIOLACION DE DOMICILIO', 'ATENTADOS CONTRA LA PATRIA POTESTAD', 'VIOLACION DE LA LIBERTAD DE TRABAJO', 'DELITOS FINANCIEROS', 'OMISION DE ASISTENCIA FAMILIAR', 'CONTRA LOS DERECHOS DE AUTOR Y CONEXOS', 'DELITOS CONTRA DATOS Y SISTEMAS INFORMATICOS', 'PROXENETISMO', 'CONTRA LA PROPIEDAD INDUSTRIAL', 'DEFRAUDACION TRIBUTARIA', 'RESPONSABILIDAD FUNCIONAL E INFORMACIÓN FALSA', 'CONTRA LOS BIENES CULTURALES', 'CONTRABANDO (D.ADUAN.)', 'FRAUDE EN LA ADMINISTR. DE PERS. JURID.', 'DELITOS INFORMATICOS CONTRA EL PATRIMONIO', 'FALSIFICACION DE SELLOS, TIMBRES Y MARCAS OFICIALES', 'DESAPARICION FORZADA', 'DISCRIMINACION', 'LIBRAMIENTO Y COBRO INDEBIDO', 'DELITOS INFORMATICOS CONTRA LA FE PUBLICA', 'MATRIMONIOS ILEGALES', 'TORTURA', 'VIOLACION DEL SECRETO DE LAS COMUNICAC.', 'DEFRAUDACIÓN DE RENTAS DE ADUANA', 'CONTRA EL ESTADO CIVIL', 'USURA', 'DELITOS INFORMATICOS CONTRA LA INTIMIDAD Y EL SECRETO DE LAS COMUNICACIONES', 'CONTRA LA VIDA/EL CUERPO Y LA SALUD (Sin especificar delito subgenérico)', 'DECRETO LEY 25475 (TERRORISMO)', 'CONTRA EL ORDEN MIGRATORIO', 'ATENTADOS CONTRA SEGURIDAD NACIONAL Y TRAICIÓN A LA PATRIA', 'DELITOS INFORMATICOS CONTRA LA INDEMNIDAD Y LIBERTAD SEXUALES', 'CONTRA EL PATRIMONIO (Sin especificar delito subgenérico)', 'ACAPARAMIENTO, ESPECULACION, ADULTERACION', 'DE OTROS DELITOS ECONOMICOS', 'ATENTADOS CONTRA EL SISTEMA CREDITICIO', 'RECEPTACIÓN ADUANERA', 'DELITOS CONTRA LA ADMINISTRACION PUBLICA (Sin especificar delito subgenérico)', 'DELITOS CONTRA LA FE PUBLICA (Sin especificar delito subgenérico)', 'LEY Nº 30096, LEY DE DELITOS INFORMATICOS (Sin especificar delito subgenérico)', 'CONTRA LA LIBERTAD (Sin especificar delito subgenérico)', 'TRÁFICO DE MERCANCÍAS PROHIBIDAS Y RESTRINGIDAS', 'REBELION , SEDICION Y MOTIN', 'CONTRA LA SEGURIDAD PUBLICA (Sin especificar delito subgenérico)', 'GENOCIDIO', 'VIOLACION DE LA LIBERTAD DE EXPRESION', 'DELITOS AMBIENTALES (Sin especificar delito subgenérico)', 'CONTRA EL HONOR (Sin especificar delito subgenérico)', 'CONTRA LA FAMILIA (Sin especificar delito subgenérico)', 'VENTA ILICITA DE MERCADERIAS', 'DESEMPEÑO DE ACTIVIDADES NO AUTORIZADAS', 'CONTRA SIMBOLOS Y VALORES DE LA PATRIA', 'CONTRA LA TRANQUILIDAD PUBLICA (Sin especificar delito subgenérico)', 'CIRCUNSTANCIAS AGRAVANTES', 'DELITOS INFORMATICOS', 'DELITOS QUE COMPROMETEN LAS RELACIONES EXTERIORES DEL ESTADO', 'VIOLACION DE LA LIBERTAD DE REUNION', 'VIOLACION DEL SECRETO PROFESIONAL', 'TENTATIVA', 'D.LEG 813. LEY PENAL TRIBUTARIA (Sin especificar delito subgenérico)', 'CONTRA EL ORDEN FINANCIERO Y MONETARIO (Sin especificar delito subgenérico)', 'NO TIPIFICADOS', 'DELITOS ADUANEROS (LEY 28008) (Sin especificar delito subgenérico)', 'DELITOS CONTRA LA PARTICIPACION DEMOCRATICA', 'CONTRA EL PATRIMONIO CULTURAL (Sin especificar delito subgenérico)', 'ABUSO DEL PODER ECONOMICO', 'CONTRA EL ORDEN ECONOMICO (Sin especificar delito subgenérico)', 'ELABORAC. Y COMERC. CLANDEST. DE PRODUCTOS', 'DELITOS CONTRA LA HUMANIDAD (Sin especificar delito subgenérico)', 'DELITOS CONTRA LA VOLUNTAD POPULAR (Sin especificar delito subgenérico)', 'CONTRA LOS DERECHOS INTELECTUALES (Sin especificar delito subgenérico)', 'FINANCIAMIENTO', 'CONTRA LA CONF.Y.LA.BUEN.FE.EN.NEGOCIOS (Sin especificar delito subgenérico)', 'CONTRABANDO']\n",
      "\n",
      "\n",
      "El nombre de la columna: prov_pjfs\n",
      "['LIMA', 'CALLAO', 'AREQUIPA', 'HUANUCO', 'CUSCO', 'MAYNAS', 'PUNO', 'TRUJILLO', 'CHICLAYO', 'PIURA', 'CAJAMARCA', 'HUAMANGA', 'HUANCAYO', 'ICA', 'HUARAZ', 'CHACHAPOYAS', 'CORONEL PORTILLO', 'SANTA', 'TAMBOPATA', 'ABANCAY', 'TACNA', 'HUAURA', 'CAÑETE', 'MOYOBAMBA', 'MARISCAL NIETO', 'CHANCHAMAYO', 'SULLANA', 'HUANCAVELICA', 'PASCO', 'TUMBES']\n",
      "\n",
      "\n",
      "El nombre de la columna: dist_pjfs\n",
      "['LIMA', 'AREQUIPA', 'INDEPENDENCIA', 'HUANUCO', 'IQUITOS', 'WANCHAQ', 'PUNO', 'TRUJILLO', 'CHICLAYO', 'PIURA', 'CAJAMARCA', 'SANTA ANITA', 'SAN JUAN BAUTISTA', 'EL TAMBO', 'ICA', 'HUARAZ', 'CHACHAPOYAS', 'VILLA EL SALVADOR', 'CALLERIA', 'CHIMBOTE', 'TAMBOPATA', 'CALLAO', 'ABANCAY', 'TACNA', 'HUACHO', 'SAN VICENTE DE CAÑETE', 'MOYOBAMBA', 'MOQUEGUA', 'CHANCHAMAYO', 'SULLANA', 'HUANCAVELICA', 'VENTANILLA', 'YANACANCHA', 'TUMBES']\n",
      "\n",
      "\n"
     ]
    }
   ],
   "source": [
    "for columna in columns:\n",
    "    print(f\"El nombre de la columna: {columna}\")\n",
    "    print(list(df_modificado[f\"{columna}\"].value_counts().index))\n",
    "    print('\\n')"
   ]
  },
  {
   "cell_type": "code",
   "execution_count": 9,
   "id": "2613b999-30cd-4054-9401-2613711be8b7",
   "metadata": {
    "tags": []
   },
   "outputs": [
    {
     "data": {
      "text/html": [
       "<div>\n",
       "<style scoped>\n",
       "    .dataframe tbody tr th:only-of-type {\n",
       "        vertical-align: middle;\n",
       "    }\n",
       "\n",
       "    .dataframe tbody tr th {\n",
       "        vertical-align: top;\n",
       "    }\n",
       "\n",
       "    .dataframe thead th {\n",
       "        text-align: right;\n",
       "    }\n",
       "</style>\n",
       "<table border=\"1\" class=\"dataframe\">\n",
       "  <thead>\n",
       "    <tr style=\"text-align: right;\">\n",
       "      <th></th>\n",
       "      <th>distrito_fiscal</th>\n",
       "      <th>generico</th>\n",
       "      <th>subgenerico</th>\n",
       "      <th>cantidad</th>\n",
       "      <th>prov_pjfs</th>\n",
       "      <th>dist_pjfs</th>\n",
       "    </tr>\n",
       "  </thead>\n",
       "  <tbody>\n",
       "    <tr>\n",
       "      <th>32</th>\n",
       "      <td>AMAZONAS</td>\n",
       "      <td>CONTRA EL PATRIMONIO</td>\n",
       "      <td>HURTO</td>\n",
       "      <td>436</td>\n",
       "      <td>CHACHAPOYAS</td>\n",
       "      <td>CHACHAPOYAS</td>\n",
       "    </tr>\n",
       "    <tr>\n",
       "      <th>33</th>\n",
       "      <td>AMAZONAS</td>\n",
       "      <td>CONTRA EL PATRIMONIO</td>\n",
       "      <td>HURTO</td>\n",
       "      <td>963</td>\n",
       "      <td>CHACHAPOYAS</td>\n",
       "      <td>CHACHAPOYAS</td>\n",
       "    </tr>\n",
       "    <tr>\n",
       "      <th>34</th>\n",
       "      <td>AMAZONAS</td>\n",
       "      <td>CONTRA EL PATRIMONIO</td>\n",
       "      <td>HURTO</td>\n",
       "      <td>42</td>\n",
       "      <td>CHACHAPOYAS</td>\n",
       "      <td>CHACHAPOYAS</td>\n",
       "    </tr>\n",
       "    <tr>\n",
       "      <th>35</th>\n",
       "      <td>AMAZONAS</td>\n",
       "      <td>CONTRA EL PATRIMONIO</td>\n",
       "      <td>HURTO</td>\n",
       "      <td>242</td>\n",
       "      <td>CHACHAPOYAS</td>\n",
       "      <td>CHACHAPOYAS</td>\n",
       "    </tr>\n",
       "    <tr>\n",
       "      <th>39</th>\n",
       "      <td>AMAZONAS</td>\n",
       "      <td>CONTRA EL PATRIMONIO</td>\n",
       "      <td>ROBO</td>\n",
       "      <td>18</td>\n",
       "      <td>CHACHAPOYAS</td>\n",
       "      <td>CHACHAPOYAS</td>\n",
       "    </tr>\n",
       "    <tr>\n",
       "      <th>...</th>\n",
       "      <td>...</td>\n",
       "      <td>...</td>\n",
       "      <td>...</td>\n",
       "      <td>...</td>\n",
       "      <td>...</td>\n",
       "      <td>...</td>\n",
       "    </tr>\n",
       "    <tr>\n",
       "      <th>9110</th>\n",
       "      <td>UCAYALI</td>\n",
       "      <td>CONTRA LA VIDA/EL CUERPO Y LA SALUD</td>\n",
       "      <td>LESIONES</td>\n",
       "      <td>4</td>\n",
       "      <td>CORONEL PORTILLO</td>\n",
       "      <td>CALLERIA</td>\n",
       "    </tr>\n",
       "    <tr>\n",
       "      <th>9111</th>\n",
       "      <td>UCAYALI</td>\n",
       "      <td>CONTRA LA VIDA/EL CUERPO Y LA SALUD</td>\n",
       "      <td>LESIONES</td>\n",
       "      <td>4</td>\n",
       "      <td>CORONEL PORTILLO</td>\n",
       "      <td>CALLERIA</td>\n",
       "    </tr>\n",
       "    <tr>\n",
       "      <th>9112</th>\n",
       "      <td>UCAYALI</td>\n",
       "      <td>CONTRA LA VIDA/EL CUERPO Y LA SALUD</td>\n",
       "      <td>LESIONES</td>\n",
       "      <td>13</td>\n",
       "      <td>CORONEL PORTILLO</td>\n",
       "      <td>CALLERIA</td>\n",
       "    </tr>\n",
       "    <tr>\n",
       "      <th>9113</th>\n",
       "      <td>UCAYALI</td>\n",
       "      <td>CONTRA LA VIDA/EL CUERPO Y LA SALUD</td>\n",
       "      <td>LESIONES</td>\n",
       "      <td>3022</td>\n",
       "      <td>CORONEL PORTILLO</td>\n",
       "      <td>CALLERIA</td>\n",
       "    </tr>\n",
       "    <tr>\n",
       "      <th>9114</th>\n",
       "      <td>UCAYALI</td>\n",
       "      <td>CONTRA LA VIDA/EL CUERPO Y LA SALUD</td>\n",
       "      <td>LESIONES</td>\n",
       "      <td>2</td>\n",
       "      <td>CORONEL PORTILLO</td>\n",
       "      <td>CALLERIA</td>\n",
       "    </tr>\n",
       "  </tbody>\n",
       "</table>\n",
       "<p>1025 rows × 6 columns</p>\n",
       "</div>"
      ],
      "text/plain": [
       "     distrito_fiscal                             generico subgenerico  \\\n",
       "32          AMAZONAS                 CONTRA EL PATRIMONIO       HURTO   \n",
       "33          AMAZONAS                 CONTRA EL PATRIMONIO       HURTO   \n",
       "34          AMAZONAS                 CONTRA EL PATRIMONIO       HURTO   \n",
       "35          AMAZONAS                 CONTRA EL PATRIMONIO       HURTO   \n",
       "39          AMAZONAS                 CONTRA EL PATRIMONIO        ROBO   \n",
       "...              ...                                  ...         ...   \n",
       "9110         UCAYALI  CONTRA LA VIDA/EL CUERPO Y LA SALUD    LESIONES   \n",
       "9111         UCAYALI  CONTRA LA VIDA/EL CUERPO Y LA SALUD    LESIONES   \n",
       "9112         UCAYALI  CONTRA LA VIDA/EL CUERPO Y LA SALUD    LESIONES   \n",
       "9113         UCAYALI  CONTRA LA VIDA/EL CUERPO Y LA SALUD    LESIONES   \n",
       "9114         UCAYALI  CONTRA LA VIDA/EL CUERPO Y LA SALUD    LESIONES   \n",
       "\n",
       "      cantidad         prov_pjfs    dist_pjfs  \n",
       "32         436       CHACHAPOYAS  CHACHAPOYAS  \n",
       "33         963       CHACHAPOYAS  CHACHAPOYAS  \n",
       "34          42       CHACHAPOYAS  CHACHAPOYAS  \n",
       "35         242       CHACHAPOYAS  CHACHAPOYAS  \n",
       "39          18       CHACHAPOYAS  CHACHAPOYAS  \n",
       "...        ...               ...          ...  \n",
       "9110         4  CORONEL PORTILLO     CALLERIA  \n",
       "9111         4  CORONEL PORTILLO     CALLERIA  \n",
       "9112        13  CORONEL PORTILLO     CALLERIA  \n",
       "9113      3022  CORONEL PORTILLO     CALLERIA  \n",
       "9114         2  CORONEL PORTILLO     CALLERIA  \n",
       "\n",
       "[1025 rows x 6 columns]"
      ]
     },
     "execution_count": 9,
     "metadata": {},
     "output_type": "execute_result"
    }
   ],
   "source": [
    "df_filtrado = df_modificado[df_modificado['subgenerico'].isin(['DELITOS COMETIDOS POR PARTICULARES', 'LESIONES', 'HURTO', 'ROBO', 'DESAPARICION FORZADA', 'CONTRA LA LIBERTAD (Sin especificar delito subgenérico)'])].dropna()\n",
    "df_filtrado"
   ]
  },
  {
   "cell_type": "code",
   "execution_count": 10,
   "id": "8dfbb55e-7f17-44b8-a73a-e643e5878a99",
   "metadata": {
    "tags": []
   },
   "outputs": [
    {
     "data": {
      "text/html": [
       "<div>\n",
       "<style scoped>\n",
       "    .dataframe tbody tr th:only-of-type {\n",
       "        vertical-align: middle;\n",
       "    }\n",
       "\n",
       "    .dataframe tbody tr th {\n",
       "        vertical-align: top;\n",
       "    }\n",
       "\n",
       "    .dataframe thead th {\n",
       "        text-align: right;\n",
       "    }\n",
       "</style>\n",
       "<table border=\"1\" class=\"dataframe\">\n",
       "  <thead>\n",
       "    <tr style=\"text-align: right;\">\n",
       "      <th></th>\n",
       "      <th>distrito_fiscal</th>\n",
       "      <th>generico</th>\n",
       "      <th>subgenerico</th>\n",
       "      <th>cantidad</th>\n",
       "      <th>prov_pjfs</th>\n",
       "      <th>dist_pjfs</th>\n",
       "    </tr>\n",
       "  </thead>\n",
       "  <tbody>\n",
       "    <tr>\n",
       "      <th>0</th>\n",
       "      <td>AMAZONAS</td>\n",
       "      <td>CONTRA EL PATRIMONIO</td>\n",
       "      <td>HURTO</td>\n",
       "      <td>436</td>\n",
       "      <td>CHACHAPOYAS</td>\n",
       "      <td>CHACHAPOYAS</td>\n",
       "    </tr>\n",
       "    <tr>\n",
       "      <th>1</th>\n",
       "      <td>AMAZONAS</td>\n",
       "      <td>CONTRA EL PATRIMONIO</td>\n",
       "      <td>HURTO</td>\n",
       "      <td>963</td>\n",
       "      <td>CHACHAPOYAS</td>\n",
       "      <td>CHACHAPOYAS</td>\n",
       "    </tr>\n",
       "    <tr>\n",
       "      <th>2</th>\n",
       "      <td>AMAZONAS</td>\n",
       "      <td>CONTRA EL PATRIMONIO</td>\n",
       "      <td>HURTO</td>\n",
       "      <td>42</td>\n",
       "      <td>CHACHAPOYAS</td>\n",
       "      <td>CHACHAPOYAS</td>\n",
       "    </tr>\n",
       "    <tr>\n",
       "      <th>3</th>\n",
       "      <td>AMAZONAS</td>\n",
       "      <td>CONTRA EL PATRIMONIO</td>\n",
       "      <td>HURTO</td>\n",
       "      <td>242</td>\n",
       "      <td>CHACHAPOYAS</td>\n",
       "      <td>CHACHAPOYAS</td>\n",
       "    </tr>\n",
       "    <tr>\n",
       "      <th>4</th>\n",
       "      <td>AMAZONAS</td>\n",
       "      <td>CONTRA EL PATRIMONIO</td>\n",
       "      <td>ROBO</td>\n",
       "      <td>18</td>\n",
       "      <td>CHACHAPOYAS</td>\n",
       "      <td>CHACHAPOYAS</td>\n",
       "    </tr>\n",
       "    <tr>\n",
       "      <th>...</th>\n",
       "      <td>...</td>\n",
       "      <td>...</td>\n",
       "      <td>...</td>\n",
       "      <td>...</td>\n",
       "      <td>...</td>\n",
       "      <td>...</td>\n",
       "    </tr>\n",
       "    <tr>\n",
       "      <th>1020</th>\n",
       "      <td>UCAYALI</td>\n",
       "      <td>CONTRA LA VIDA/EL CUERPO Y LA SALUD</td>\n",
       "      <td>LESIONES</td>\n",
       "      <td>4</td>\n",
       "      <td>CORONEL PORTILLO</td>\n",
       "      <td>CALLERIA</td>\n",
       "    </tr>\n",
       "    <tr>\n",
       "      <th>1021</th>\n",
       "      <td>UCAYALI</td>\n",
       "      <td>CONTRA LA VIDA/EL CUERPO Y LA SALUD</td>\n",
       "      <td>LESIONES</td>\n",
       "      <td>4</td>\n",
       "      <td>CORONEL PORTILLO</td>\n",
       "      <td>CALLERIA</td>\n",
       "    </tr>\n",
       "    <tr>\n",
       "      <th>1022</th>\n",
       "      <td>UCAYALI</td>\n",
       "      <td>CONTRA LA VIDA/EL CUERPO Y LA SALUD</td>\n",
       "      <td>LESIONES</td>\n",
       "      <td>13</td>\n",
       "      <td>CORONEL PORTILLO</td>\n",
       "      <td>CALLERIA</td>\n",
       "    </tr>\n",
       "    <tr>\n",
       "      <th>1023</th>\n",
       "      <td>UCAYALI</td>\n",
       "      <td>CONTRA LA VIDA/EL CUERPO Y LA SALUD</td>\n",
       "      <td>LESIONES</td>\n",
       "      <td>3022</td>\n",
       "      <td>CORONEL PORTILLO</td>\n",
       "      <td>CALLERIA</td>\n",
       "    </tr>\n",
       "    <tr>\n",
       "      <th>1024</th>\n",
       "      <td>UCAYALI</td>\n",
       "      <td>CONTRA LA VIDA/EL CUERPO Y LA SALUD</td>\n",
       "      <td>LESIONES</td>\n",
       "      <td>2</td>\n",
       "      <td>CORONEL PORTILLO</td>\n",
       "      <td>CALLERIA</td>\n",
       "    </tr>\n",
       "  </tbody>\n",
       "</table>\n",
       "<p>1025 rows × 6 columns</p>\n",
       "</div>"
      ],
      "text/plain": [
       "     distrito_fiscal                             generico subgenerico  \\\n",
       "0           AMAZONAS                 CONTRA EL PATRIMONIO       HURTO   \n",
       "1           AMAZONAS                 CONTRA EL PATRIMONIO       HURTO   \n",
       "2           AMAZONAS                 CONTRA EL PATRIMONIO       HURTO   \n",
       "3           AMAZONAS                 CONTRA EL PATRIMONIO       HURTO   \n",
       "4           AMAZONAS                 CONTRA EL PATRIMONIO        ROBO   \n",
       "...              ...                                  ...         ...   \n",
       "1020         UCAYALI  CONTRA LA VIDA/EL CUERPO Y LA SALUD    LESIONES   \n",
       "1021         UCAYALI  CONTRA LA VIDA/EL CUERPO Y LA SALUD    LESIONES   \n",
       "1022         UCAYALI  CONTRA LA VIDA/EL CUERPO Y LA SALUD    LESIONES   \n",
       "1023         UCAYALI  CONTRA LA VIDA/EL CUERPO Y LA SALUD    LESIONES   \n",
       "1024         UCAYALI  CONTRA LA VIDA/EL CUERPO Y LA SALUD    LESIONES   \n",
       "\n",
       "      cantidad         prov_pjfs    dist_pjfs  \n",
       "0          436       CHACHAPOYAS  CHACHAPOYAS  \n",
       "1          963       CHACHAPOYAS  CHACHAPOYAS  \n",
       "2           42       CHACHAPOYAS  CHACHAPOYAS  \n",
       "3          242       CHACHAPOYAS  CHACHAPOYAS  \n",
       "4           18       CHACHAPOYAS  CHACHAPOYAS  \n",
       "...        ...               ...          ...  \n",
       "1020         4  CORONEL PORTILLO     CALLERIA  \n",
       "1021         4  CORONEL PORTILLO     CALLERIA  \n",
       "1022        13  CORONEL PORTILLO     CALLERIA  \n",
       "1023      3022  CORONEL PORTILLO     CALLERIA  \n",
       "1024         2  CORONEL PORTILLO     CALLERIA  \n",
       "\n",
       "[1025 rows x 6 columns]"
      ]
     },
     "execution_count": 10,
     "metadata": {},
     "output_type": "execute_result"
    }
   ],
   "source": [
    "df_filtrado = df_filtrado.reset_index(drop = True)\n",
    "df_filtrado"
   ]
  },
  {
   "cell_type": "code",
   "execution_count": 11,
   "id": "44af2a86-5d80-4096-a8e2-8ce489da2d8a",
   "metadata": {},
   "outputs": [],
   "source": [
    "df = pd.DataFrame(df_filtrado)\n",
    "result = df.groupby('distrito_fiscal')['cantidad'].sum()\n",
    "result_ordenado = result.sort_values(ascending=False)"
   ]
  },
  {
   "cell_type": "code",
   "execution_count": 12,
   "id": "3bfa75ce-dcad-4999-a4c0-2ba859d6358d",
   "metadata": {},
   "outputs": [
    {
     "name": "stdout",
     "output_type": "stream",
     "text": [
      "distrito_fiscal\n",
      "LIMA NORTE       47539\n",
      "LIMA ESTE        46029\n",
      "LIMA SUR         45862\n",
      "LAMBAYEQUE       44958\n",
      "AREQUIPA         38315\n",
      "LA LIBERTAD      33153\n",
      "PIURA            23977\n",
      "CUSCO            23500\n",
      "ICA              21496\n",
      "JUNIN            20867\n",
      "CALLAO           16724\n",
      "HUANUCO          15383\n",
      "SANTA            13467\n",
      "AYACUCHO         13365\n",
      "PUNO             13242\n",
      "HUAURA           12418\n",
      "CAJAMARCA        12051\n",
      "LORETO           10162\n",
      "ANCASH            9977\n",
      "SELVA CENTRAL     8854\n",
      "SULLANA           8819\n",
      "SAN MARTIN        8542\n",
      "TACNA             8183\n",
      "CAÑETE            8086\n",
      "UCAYALI           7110\n",
      "MADRE DE DIOS     6744\n",
      "LIMA CENTRO       6690\n",
      "APURIMAC          6490\n",
      "AMAZONAS          6483\n",
      "MOQUEGUA          5602\n",
      "TUMBES            4780\n",
      "HUANCAVELICA      2804\n",
      "PASCO             2418\n",
      "LIMA NOROESTE     1352\n",
      "Name: cantidad, dtype: int64\n"
     ]
    }
   ],
   "source": [
    "print(result_ordenado)"
   ]
  },
  {
   "cell_type": "code",
   "execution_count": 13,
   "id": "79359332-1142-482c-b35d-865c52047f3d",
   "metadata": {
    "tags": []
   },
   "outputs": [
    {
     "name": "stdout",
     "output_type": "stream",
     "text": [
      "El nombre de la columna: distrito_fiscal\n",
      "['LIMA CENTRO', 'HUANUCO', 'PIURA', 'LIMA ESTE', 'PUNO', 'UCAYALI', 'AYACUCHO', 'LORETO', 'AREQUIPA', 'LAMBAYEQUE', 'CAJAMARCA', 'JUNIN', 'LA LIBERTAD', 'MADRE DE DIOS', 'LIMA NORTE', 'ANCASH', 'AMAZONAS', 'ICA', 'CUSCO', 'LIMA NOROESTE', 'CAÑETE', 'TACNA', 'SANTA', 'APURIMAC', 'CALLAO', 'LIMA SUR', 'SAN MARTIN', 'HUAURA', 'SELVA CENTRAL', 'HUANCAVELICA', 'PASCO', 'TUMBES', 'SULLANA', 'MOQUEGUA']\n",
      "\n",
      "\n",
      "El nombre de la columna: generico\n",
      "['CONTRA LA ADMINISTRACION PUBLICA', 'CONTRA LA VIDA/EL CUERPO Y LA SALUD', 'CONTRA EL PATRIMONIO', 'CONTRA LA HUMANIDAD', 'CONTRA LA LIBERTAD']\n",
      "\n",
      "\n",
      "El nombre de la columna: subgenerico\n",
      "['DELITOS COMETIDOS POR PARTICULARES', 'LESIONES', 'HURTO', 'ROBO', 'DESAPARICION FORZADA', 'CONTRA LA LIBERTAD (Sin especificar delito subgenérico)']\n",
      "\n",
      "\n",
      "El nombre de la columna: prov_pjfs\n",
      "['LIMA', 'CALLAO', 'HUANUCO', 'PIURA', 'CORONEL PORTILLO', 'PUNO', 'HUAMANGA', 'AREQUIPA', 'MAYNAS', 'HUANCAYO', 'TRUJILLO', 'CHICLAYO', 'CAJAMARCA', 'CUSCO', 'TAMBOPATA', 'ICA', 'HUARAZ', 'CHACHAPOYAS', 'CAÑETE', 'TACNA', 'SANTA', 'ABANCAY', 'HUAURA', 'MOYOBAMBA', 'CHANCHAMAYO', 'HUANCAVELICA', 'PASCO', 'TUMBES', 'SULLANA', 'MARISCAL NIETO']\n",
      "\n",
      "\n",
      "El nombre de la columna: dist_pjfs\n",
      "['LIMA', 'HUANUCO', 'PIURA', 'SANTA ANITA', 'PUNO', 'CALLERIA', 'SAN JUAN BAUTISTA', 'IQUITOS', 'AREQUIPA', 'CHICLAYO', 'CAJAMARCA', 'EL TAMBO', 'TRUJILLO', 'TAMBOPATA', 'INDEPENDENCIA', 'HUARAZ', 'CHACHAPOYAS', 'ICA', 'WANCHAQ', 'VENTANILLA', 'SAN VICENTE DE CAÑETE', 'TACNA', 'CHIMBOTE', 'ABANCAY', 'CALLAO', 'VILLA EL SALVADOR', 'MOYOBAMBA', 'HUACHO', 'CHANCHAMAYO', 'HUANCAVELICA', 'YANACANCHA', 'TUMBES', 'SULLANA', 'MOQUEGUA']\n",
      "\n",
      "\n"
     ]
    }
   ],
   "source": [
    "for columna in columns:\n",
    "    print(f\"El nombre de la columna: {columna}\")\n",
    "    print(list(df_filtrado[f\"{columna}\"].value_counts().index))\n",
    "    print('\\n')"
   ]
  },
  {
   "cell_type": "code",
   "execution_count": 14,
   "id": "5651dfef-25c6-4518-878c-35f4ae33aff4",
   "metadata": {
    "tags": []
   },
   "outputs": [],
   "source": [
    "def procesar_datos():\n",
    "    global df_filtrado\n",
    "    df_filtrado = df_filtrado.drop_duplicates() if df_filtrado.duplicated().any() else df_filtrado\n",
    "    df_filtrado = df_filtrado.dropna() if df_filtrado.isnull().values.any() else df_filtrado\n",
    "\n",
    "    a = {'LIMA CENTRO': 1,\n",
    "         'HUANUCO': 2,\n",
    "         'PIURA': 3,\n",
    "         'LIMA ESTE': 4,\n",
    "         'PUNO': 5,\n",
    "         'UCAYALI': 6,\n",
    "         'AYACUCHO': 7,\n",
    "         'LORETO': 8,\n",
    "         'AREQUIPA': 9,\n",
    "         'LAMBAYEQUE': 10,\n",
    "         'CAJAMARCA': 11,\n",
    "         'JUNIN': 12,\n",
    "         'LA LIBERTAD': 13,\n",
    "         'MADRE DE DIOS': 14,\n",
    "         'LIMA NORTE': 15,\n",
    "         'ANCASH': 16,\n",
    "         'AMAZONAS': 17,\n",
    "         'ICA': 18,\n",
    "         'CUSCO': 19,\n",
    "         'LIMA NOROESTE': 20,\n",
    "         'CAÑETE': 21,\n",
    "         'TACNA': 22,\n",
    "         'SANTA': 23,\n",
    "         'APURIMAC': 24,\n",
    "         'CALLAO': 25,\n",
    "         'LIMA SUR': 26,\n",
    "         'SAN MARTIN': 27,\n",
    "         'HUAURA': 28,\n",
    "         'SELVA CENTRAL': 29,\n",
    "         'HUANCAVELICA': 30,\n",
    "         'PASCO': 31,\n",
    "         'TUMBES': 32,\n",
    "         'SULLANA': 33,\n",
    "         'MOQUEGUA': 34\n",
    "      }\n",
    "    df_filtrado['distrito_fiscal'] = df_filtrado['distrito_fiscal'].map(a)\n",
    "\n",
    "    a = {'CONTRA LA ADMINISTRACION PUBLICA': 1,\n",
    "         'CONTRA LA VIDA/EL CUERPO Y LA SALUD': 2,\n",
    "         'CONTRA EL PATRIMONIO': 3,\n",
    "         'CONTRA LA HUMANIDAD': 4,\n",
    "         'CONTRA LA LIBERTAD': 5,\n",
    "    }\n",
    "    df_filtrado['generico'] = df_filtrado['generico'].map(a)\n",
    "\n",
    "    a = {'DELITOS COMETIDOS POR PARTICULARES': 1,\n",
    "         'LESIONES': 2,\n",
    "         'HURTO': 3,\n",
    "         'ROBO': 4,\n",
    "         'DESAPARICION FORZADA': 5,\n",
    "         'CONTRA LA LIBERTAD (Sin especificar delito subgenérico)': 6\n",
    "    }\n",
    "    df_filtrado['subgenerico'] = df_filtrado['subgenerico'].map(a)\n",
    "\n",
    "    a = {'LIMA': 1,\n",
    "         'CALLAO': 2,\n",
    "         'HUANUCO': 3,\n",
    "         'PIURA': 4,\n",
    "         'CORONEL PORTILLO': 5,\n",
    "         'PUNO': 6,\n",
    "         'HUAMANGA': 7,\n",
    "         'AREQUIPA': 8,\n",
    "         'MAYNAS': 9,\n",
    "         'HUANCAYO': 10,\n",
    "         'TRUJILLO': 11,\n",
    "         'CHICLAYO': 12,\n",
    "         'CAJAMARCA': 13,\n",
    "         'CUSCO': 14,\n",
    "         'TAMBOPATA': 15,\n",
    "         'ICA': 16,\n",
    "         'HUARAZ': 17,\n",
    "         'CHACHAPOYAS': 18,\n",
    "         'CAÑETE': 19,\n",
    "         'TACNA': 20,\n",
    "         'SANTA':21,\n",
    "         'ABANCAY': 22,\n",
    "         'HUAURA': 23,\n",
    "         'MOYOBAMBA': 24,\n",
    "         'CHANCHAMAYO': 25,\n",
    "         'HUANCAVELICA': 26,\n",
    "         'PASCO': 27,\n",
    "         'TUMBES': 28,\n",
    "         'SULLANA': 29,\n",
    "         'MARISCAL NIETO': 30\n",
    "    }\n",
    "    df_filtrado['prov_pjfs'] = df_filtrado['prov_pjfs'].map(a)\n",
    "\n",
    "    a = {'LIMA': 1,\n",
    "         'HUANUCO': 2,\n",
    "         'PIURA': 3,\n",
    "         'SANTA ANITA': 4,\n",
    "         'PUNO': 5,\n",
    "         'CALLERIA': 6,\n",
    "         'SAN JUAN BAUTISTA': 7,\n",
    "         'IQUITOS': 8,\n",
    "         'AREQUIPA': 9,\n",
    "         'CHICLAYO': 10,\n",
    "         'CAJAMARCA': 11,\n",
    "         'EL TAMBO': 12,\n",
    "         'TRUJILLO': 13,\n",
    "         'TAMBOPATA': 14,\n",
    "         'INDEPENDENCIA': 15,\n",
    "         'HUARAZ': 16,\n",
    "         'CHACHAPOYAS': 17,\n",
    "         'ICA': 18,\n",
    "         'WANCHAQ': 19,\n",
    "         'VENTANILLA': 20,\n",
    "         'SAN VICENTE DE CAÑETE': 21,\n",
    "         'TACNA': 22,\n",
    "         'CHIMBOTE': 23,\n",
    "         'ABANCAY': 24,\n",
    "         'CALLAO': 25,\n",
    "         'VILLA EL SALVADOR': 26,\n",
    "         'MOYOBAMBA': 27,\n",
    "         'HUACHO': 28,\n",
    "         'CHANCHAMAYO': 29,\n",
    "         'HUANCAVELICA': 30,\n",
    "         'YANACANCHA': 31,\n",
    "         'TUMBES': 32,\n",
    "         'SULLANA': 33,\n",
    "         'MOQUEGUA': 34\n",
    "    }\n",
    "    df_filtrado['dist_pjfs'] = df_filtrado['dist_pjfs'].map(a)"
   ]
  },
  {
   "cell_type": "code",
   "execution_count": 15,
   "id": "3e6a0dad-94ef-410c-a6ff-00853afdf8a1",
   "metadata": {
    "tags": []
   },
   "outputs": [
    {
     "name": "stderr",
     "output_type": "stream",
     "text": [
      "C:\\Users\\Acer\\AppData\\Local\\Temp\\ipykernel_11284\\1927570917.py:41: SettingWithCopyWarning: \n",
      "A value is trying to be set on a copy of a slice from a DataFrame.\n",
      "Try using .loc[row_indexer,col_indexer] = value instead\n",
      "\n",
      "See the caveats in the documentation: https://pandas.pydata.org/pandas-docs/stable/user_guide/indexing.html#returning-a-view-versus-a-copy\n",
      "  df_filtrado['distrito_fiscal'] = df_filtrado['distrito_fiscal'].map(a)\n",
      "C:\\Users\\Acer\\AppData\\Local\\Temp\\ipykernel_11284\\1927570917.py:49: SettingWithCopyWarning: \n",
      "A value is trying to be set on a copy of a slice from a DataFrame.\n",
      "Try using .loc[row_indexer,col_indexer] = value instead\n",
      "\n",
      "See the caveats in the documentation: https://pandas.pydata.org/pandas-docs/stable/user_guide/indexing.html#returning-a-view-versus-a-copy\n",
      "  df_filtrado['generico'] = df_filtrado['generico'].map(a)\n",
      "C:\\Users\\Acer\\AppData\\Local\\Temp\\ipykernel_11284\\1927570917.py:58: SettingWithCopyWarning: \n",
      "A value is trying to be set on a copy of a slice from a DataFrame.\n",
      "Try using .loc[row_indexer,col_indexer] = value instead\n",
      "\n",
      "See the caveats in the documentation: https://pandas.pydata.org/pandas-docs/stable/user_guide/indexing.html#returning-a-view-versus-a-copy\n",
      "  df_filtrado['subgenerico'] = df_filtrado['subgenerico'].map(a)\n",
      "C:\\Users\\Acer\\AppData\\Local\\Temp\\ipykernel_11284\\1927570917.py:91: SettingWithCopyWarning: \n",
      "A value is trying to be set on a copy of a slice from a DataFrame.\n",
      "Try using .loc[row_indexer,col_indexer] = value instead\n",
      "\n",
      "See the caveats in the documentation: https://pandas.pydata.org/pandas-docs/stable/user_guide/indexing.html#returning-a-view-versus-a-copy\n",
      "  df_filtrado['prov_pjfs'] = df_filtrado['prov_pjfs'].map(a)\n",
      "C:\\Users\\Acer\\AppData\\Local\\Temp\\ipykernel_11284\\1927570917.py:128: SettingWithCopyWarning: \n",
      "A value is trying to be set on a copy of a slice from a DataFrame.\n",
      "Try using .loc[row_indexer,col_indexer] = value instead\n",
      "\n",
      "See the caveats in the documentation: https://pandas.pydata.org/pandas-docs/stable/user_guide/indexing.html#returning-a-view-versus-a-copy\n",
      "  df_filtrado['dist_pjfs'] = df_filtrado['dist_pjfs'].map(a)\n"
     ]
    },
    {
     "data": {
      "text/html": [
       "<div>\n",
       "<style scoped>\n",
       "    .dataframe tbody tr th:only-of-type {\n",
       "        vertical-align: middle;\n",
       "    }\n",
       "\n",
       "    .dataframe tbody tr th {\n",
       "        vertical-align: top;\n",
       "    }\n",
       "\n",
       "    .dataframe thead th {\n",
       "        text-align: right;\n",
       "    }\n",
       "</style>\n",
       "<table border=\"1\" class=\"dataframe\">\n",
       "  <thead>\n",
       "    <tr style=\"text-align: right;\">\n",
       "      <th></th>\n",
       "      <th>distrito_fiscal</th>\n",
       "      <th>generico</th>\n",
       "      <th>subgenerico</th>\n",
       "      <th>cantidad</th>\n",
       "      <th>prov_pjfs</th>\n",
       "      <th>dist_pjfs</th>\n",
       "    </tr>\n",
       "  </thead>\n",
       "  <tbody>\n",
       "    <tr>\n",
       "      <th>3</th>\n",
       "      <td>17</td>\n",
       "      <td>3</td>\n",
       "      <td>3</td>\n",
       "      <td>242</td>\n",
       "      <td>18</td>\n",
       "      <td>17</td>\n",
       "    </tr>\n",
       "    <tr>\n",
       "      <th>348</th>\n",
       "      <td>28</td>\n",
       "      <td>1</td>\n",
       "      <td>1</td>\n",
       "      <td>314</td>\n",
       "      <td>23</td>\n",
       "      <td>28</td>\n",
       "    </tr>\n",
       "    <tr>\n",
       "      <th>463</th>\n",
       "      <td>10</td>\n",
       "      <td>1</td>\n",
       "      <td>1</td>\n",
       "      <td>43</td>\n",
       "      <td>12</td>\n",
       "      <td>10</td>\n",
       "    </tr>\n",
       "  </tbody>\n",
       "</table>\n",
       "</div>"
      ],
      "text/plain": [
       "     distrito_fiscal  generico  subgenerico  cantidad  prov_pjfs  dist_pjfs\n",
       "3                 17         3            3       242         18         17\n",
       "348               28         1            1       314         23         28\n",
       "463               10         1            1        43         12         10"
      ]
     },
     "execution_count": 15,
     "metadata": {},
     "output_type": "execute_result"
    }
   ],
   "source": [
    "procesar_datos()\n",
    "df_filtrado.sample(3)"
   ]
  },
  {
   "cell_type": "code",
   "execution_count": 16,
   "id": "1af8d1f9-a15f-4508-927b-10f8d2f88568",
   "metadata": {
    "tags": []
   },
   "outputs": [
    {
     "data": {
      "text/html": [
       "<div>\n",
       "<style scoped>\n",
       "    .dataframe tbody tr th:only-of-type {\n",
       "        vertical-align: middle;\n",
       "    }\n",
       "\n",
       "    .dataframe tbody tr th {\n",
       "        vertical-align: top;\n",
       "    }\n",
       "\n",
       "    .dataframe thead th {\n",
       "        text-align: right;\n",
       "    }\n",
       "</style>\n",
       "<table border=\"1\" class=\"dataframe\">\n",
       "  <thead>\n",
       "    <tr style=\"text-align: right;\">\n",
       "      <th></th>\n",
       "      <th>distrito_fiscal</th>\n",
       "      <th>generico</th>\n",
       "      <th>subgenerico</th>\n",
       "      <th>cantidad</th>\n",
       "      <th>prov_pjfs</th>\n",
       "      <th>dist_pjfs</th>\n",
       "    </tr>\n",
       "  </thead>\n",
       "  <tbody>\n",
       "    <tr>\n",
       "      <th>count</th>\n",
       "      <td>835.000000</td>\n",
       "      <td>835.000000</td>\n",
       "      <td>835.000000</td>\n",
       "      <td>835.000000</td>\n",
       "      <td>835.000000</td>\n",
       "      <td>835.000000</td>\n",
       "    </tr>\n",
       "    <tr>\n",
       "      <th>mean</th>\n",
       "      <td>16.165269</td>\n",
       "      <td>2.064671</td>\n",
       "      <td>2.238323</td>\n",
       "      <td>664.522156</td>\n",
       "      <td>12.858683</td>\n",
       "      <td>16.165269</td>\n",
       "    </tr>\n",
       "    <tr>\n",
       "      <th>std</th>\n",
       "      <td>9.693455</td>\n",
       "      <td>0.974807</td>\n",
       "      <td>1.258817</td>\n",
       "      <td>2268.150324</td>\n",
       "      <td>9.010873</td>\n",
       "      <td>9.693455</td>\n",
       "    </tr>\n",
       "    <tr>\n",
       "      <th>min</th>\n",
       "      <td>1.000000</td>\n",
       "      <td>1.000000</td>\n",
       "      <td>1.000000</td>\n",
       "      <td>1.000000</td>\n",
       "      <td>1.000000</td>\n",
       "      <td>1.000000</td>\n",
       "    </tr>\n",
       "    <tr>\n",
       "      <th>25%</th>\n",
       "      <td>8.000000</td>\n",
       "      <td>1.000000</td>\n",
       "      <td>1.000000</td>\n",
       "      <td>5.000000</td>\n",
       "      <td>4.000000</td>\n",
       "      <td>8.000000</td>\n",
       "    </tr>\n",
       "    <tr>\n",
       "      <th>50%</th>\n",
       "      <td>16.000000</td>\n",
       "      <td>2.000000</td>\n",
       "      <td>2.000000</td>\n",
       "      <td>26.000000</td>\n",
       "      <td>12.000000</td>\n",
       "      <td>16.000000</td>\n",
       "    </tr>\n",
       "    <tr>\n",
       "      <th>75%</th>\n",
       "      <td>24.000000</td>\n",
       "      <td>3.000000</td>\n",
       "      <td>3.000000</td>\n",
       "      <td>377.500000</td>\n",
       "      <td>20.000000</td>\n",
       "      <td>24.000000</td>\n",
       "    </tr>\n",
       "    <tr>\n",
       "      <th>max</th>\n",
       "      <td>34.000000</td>\n",
       "      <td>5.000000</td>\n",
       "      <td>6.000000</td>\n",
       "      <td>27764.000000</td>\n",
       "      <td>30.000000</td>\n",
       "      <td>34.000000</td>\n",
       "    </tr>\n",
       "  </tbody>\n",
       "</table>\n",
       "</div>"
      ],
      "text/plain": [
       "       distrito_fiscal    generico  subgenerico      cantidad   prov_pjfs  \\\n",
       "count       835.000000  835.000000   835.000000    835.000000  835.000000   \n",
       "mean         16.165269    2.064671     2.238323    664.522156   12.858683   \n",
       "std           9.693455    0.974807     1.258817   2268.150324    9.010873   \n",
       "min           1.000000    1.000000     1.000000      1.000000    1.000000   \n",
       "25%           8.000000    1.000000     1.000000      5.000000    4.000000   \n",
       "50%          16.000000    2.000000     2.000000     26.000000   12.000000   \n",
       "75%          24.000000    3.000000     3.000000    377.500000   20.000000   \n",
       "max          34.000000    5.000000     6.000000  27764.000000   30.000000   \n",
       "\n",
       "        dist_pjfs  \n",
       "count  835.000000  \n",
       "mean    16.165269  \n",
       "std      9.693455  \n",
       "min      1.000000  \n",
       "25%      8.000000  \n",
       "50%     16.000000  \n",
       "75%     24.000000  \n",
       "max     34.000000  "
      ]
     },
     "execution_count": 16,
     "metadata": {},
     "output_type": "execute_result"
    }
   ],
   "source": [
    "df_filtrado.describe()"
   ]
  },
  {
   "cell_type": "code",
   "execution_count": 17,
   "id": "388ab5e4-e3d0-4d84-9af9-e4e0bec17212",
   "metadata": {
    "tags": []
   },
   "outputs": [],
   "source": [
    "def analisis_exploratorio():\n",
    "    global df_filtrado\n",
    "    histogramas = ['distrito_fiscal', 'generico', 'subgenerico', 'cantidad', 'prov_pjfs', 'dist_pjfs']\n",
    "    lista_histogramas = list(enumerate(histogramas))\n",
    "    plt.figure(figsize = (30,20))\n",
    "    plt.title('Histogramas')\n",
    "    for i in lista_histogramas:\n",
    "        plt.subplot(3, 2, i[0]+1)\n",
    "        sns.countplot(x = i[1], data = df_filtrado)\n",
    "        plt.xlabel(i[1], fontsize=20)\n",
    "        plt.ylabel('Total', fontsize=20)"
   ]
  },
  {
   "cell_type": "code",
   "execution_count": 18,
   "id": "323e4688-054e-4b1b-89c5-5d34f0b4deda",
   "metadata": {
    "tags": []
   },
   "outputs": [
    {
     "name": "stderr",
     "output_type": "stream",
     "text": [
      "C:\\Users\\Acer\\AppData\\Local\\Temp\\ipykernel_11284\\1769118912.py:8: MatplotlibDeprecationWarning: Auto-removal of overlapping axes is deprecated since 3.6 and will be removed two minor releases later; explicitly call ax.remove() as needed.\n",
      "  plt.subplot(3, 2, i[0]+1)\n"
     ]
    },
    {
     "data": {
      "image/png": "[encoded data removed]",
      "text/plain": [
       "<Figure size 3000x2000 with 6 Axes>"
      ]
     },
     "metadata": {},
     "output_type": "display_data"
    }
   ],
   "source": [
    "analisis_exploratorio()"
   ]
  },
  {
   "cell_type": "code",
   "execution_count": 19,
   "id": "2c0b1723-afdb-416d-9fbf-52fd41e7eed3",
   "metadata": {
    "tags": []
   },
   "outputs": [
    {
     "data": {
      "text/html": [
       "<div>\n",
       "<style scoped>\n",
       "    .dataframe tbody tr th:only-of-type {\n",
       "        vertical-align: middle;\n",
       "    }\n",
       "\n",
       "    .dataframe tbody tr th {\n",
       "        vertical-align: top;\n",
       "    }\n",
       "\n",
       "    .dataframe thead th {\n",
       "        text-align: right;\n",
       "    }\n",
       "</style>\n",
       "<table border=\"1\" class=\"dataframe\">\n",
       "  <thead>\n",
       "    <tr style=\"text-align: right;\">\n",
       "      <th></th>\n",
       "      <th>distrito_fiscal</th>\n",
       "      <th>generico</th>\n",
       "      <th>subgenerico</th>\n",
       "      <th>cantidad</th>\n",
       "      <th>prov_pjfs</th>\n",
       "      <th>dist_pjfs</th>\n",
       "    </tr>\n",
       "  </thead>\n",
       "  <tbody>\n",
       "    <tr>\n",
       "      <th>distrito_fiscal</th>\n",
       "      <td>1.000000</td>\n",
       "      <td>-0.024608</td>\n",
       "      <td>-0.027208</td>\n",
       "      <td>-0.043623</td>\n",
       "      <td>0.779023</td>\n",
       "      <td>1.000000</td>\n",
       "    </tr>\n",
       "    <tr>\n",
       "      <th>generico</th>\n",
       "      <td>-0.024608</td>\n",
       "      <td>1.000000</td>\n",
       "      <td>0.974327</td>\n",
       "      <td>0.071841</td>\n",
       "      <td>-0.007831</td>\n",
       "      <td>-0.024608</td>\n",
       "    </tr>\n",
       "    <tr>\n",
       "      <th>subgenerico</th>\n",
       "      <td>-0.027208</td>\n",
       "      <td>0.974327</td>\n",
       "      <td>1.000000</td>\n",
       "      <td>0.042160</td>\n",
       "      <td>-0.011192</td>\n",
       "      <td>-0.027208</td>\n",
       "    </tr>\n",
       "    <tr>\n",
       "      <th>cantidad</th>\n",
       "      <td>-0.043623</td>\n",
       "      <td>0.071841</td>\n",
       "      <td>0.042160</td>\n",
       "      <td>1.000000</td>\n",
       "      <td>-0.101475</td>\n",
       "      <td>-0.043623</td>\n",
       "    </tr>\n",
       "    <tr>\n",
       "      <th>prov_pjfs</th>\n",
       "      <td>0.779023</td>\n",
       "      <td>-0.007831</td>\n",
       "      <td>-0.011192</td>\n",
       "      <td>-0.101475</td>\n",
       "      <td>1.000000</td>\n",
       "      <td>0.779023</td>\n",
       "    </tr>\n",
       "    <tr>\n",
       "      <th>dist_pjfs</th>\n",
       "      <td>1.000000</td>\n",
       "      <td>-0.024608</td>\n",
       "      <td>-0.027208</td>\n",
       "      <td>-0.043623</td>\n",
       "      <td>0.779023</td>\n",
       "      <td>1.000000</td>\n",
       "    </tr>\n",
       "  </tbody>\n",
       "</table>\n",
       "</div>"
      ],
      "text/plain": [
       "                 distrito_fiscal  generico  subgenerico  cantidad  prov_pjfs  \\\n",
       "distrito_fiscal         1.000000 -0.024608    -0.027208 -0.043623   0.779023   \n",
       "generico               -0.024608  1.000000     0.974327  0.071841  -0.007831   \n",
       "subgenerico            -0.027208  0.974327     1.000000  0.042160  -0.011192   \n",
       "cantidad               -0.043623  0.071841     0.042160  1.000000  -0.101475   \n",
       "prov_pjfs               0.779023 -0.007831    -0.011192 -0.101475   1.000000   \n",
       "dist_pjfs               1.000000 -0.024608    -0.027208 -0.043623   0.779023   \n",
       "\n",
       "                 dist_pjfs  \n",
       "distrito_fiscal   1.000000  \n",
       "generico         -0.024608  \n",
       "subgenerico      -0.027208  \n",
       "cantidad         -0.043623  \n",
       "prov_pjfs         0.779023  \n",
       "dist_pjfs         1.000000  "
      ]
     },
     "execution_count": 19,
     "metadata": {},
     "output_type": "execute_result"
    }
   ],
   "source": [
    "correlation_matrix = df_filtrado.corr()\n",
    "correlation_matrix"
   ]
  },
  {
   "cell_type": "code",
   "execution_count": 20,
   "id": "40e03bce-1a22-432b-a445-a1e636d5e171",
   "metadata": {
    "tags": []
   },
   "outputs": [
    {
     "data": {
      "image/png": "[encoded data removed]",
      "text/plain": [
       "<Figure size 1500x1000 with 2 Axes>"
      ]
     },
     "metadata": {},
     "output_type": "display_data"
    }
   ],
   "source": [
    "plt.figure(figsize=(15, 10))\n",
    "sns.heatmap(correlation_matrix, annot=True, cmap='coolwarm', linewidths=0.5, fmt='.2f')\n",
    "plt.title(\"Matriz de Correlación\")\n",
    "plt.show()"
   ]
  },
  {
   "cell_type": "code",
   "execution_count": 21,
   "id": "78ea5a83-d9d2-4f55-b683-c2ad9372028f",
   "metadata": {
    "tags": []
   },
   "outputs": [],
   "source": [
    "from sklearn.model_selection import train_test_split\n",
    "from sklearn.linear_model import LinearRegression\n",
    "from sklearn.tree import DecisionTreeClassifier\n",
    "from sklearn.tree import DecisionTreeRegressor\n",
    "from sklearn.ensemble import RandomForestRegressor\n",
    "from sklearn.metrics import mean_squared_error, r2_score"
   ]
  },
  {
   "cell_type": "code",
   "execution_count": 22,
   "id": "cac1af18-38d6-4394-882f-c6c22c6247ed",
   "metadata": {
    "tags": []
   },
   "outputs": [
    {
     "name": "stdout",
     "output_type": "stream",
     "text": [
      "Regresión lineal:\n",
      "MSE: 1545985.9770368994\n",
      "R2: -0.02520515123692535\n",
      "\n",
      "Árbol de decisión:\n",
      "MSE: 3859680.5643117465\n",
      "R2: -1.5595085954437482\n",
      "\n",
      "Bosque aleatorio:\n",
      "MSE: 3529483.3421141687\n",
      "R2: -1.340541607289107\n"
     ]
    }
   ],
   "source": [
    "X = df_filtrado.drop('cantidad', axis=1)\n",
    "y = df_filtrado['cantidad']\n",
    "\n",
    "X_train, X_test, y_train, y_test = train_test_split(X, y, test_size=0.2, random_state=42)\n",
    "\n",
    "modelo_regresion_lineal = LinearRegression()\n",
    "modelo_regresion_lineal.fit(X_train, y_train)\n",
    "\n",
    "modelo_arbol_decision = DecisionTreeRegressor()\n",
    "modelo_arbol_decision.fit(X_train, y_train)\n",
    "\n",
    "modelo_bosque_aleatorio = RandomForestRegressor()\n",
    "modelo_bosque_aleatorio.fit(X_train, y_train)\n",
    "\n",
    "predicciones_regresion_lineal = modelo_regresion_lineal.predict(X_test)\n",
    "mse_regresion_lineal = mean_squared_error(y_test, predicciones_regresion_lineal)\n",
    "r2_regresion_lineal = r2_score(y_test, predicciones_regresion_lineal)\n",
    "\n",
    "predicciones_arbol_decision = modelo_arbol_decision.predict(X_test)\n",
    "mse_arbol_decision = mean_squared_error(y_test, predicciones_arbol_decision)\n",
    "r2_arbol_decision = r2_score(y_test, predicciones_arbol_decision)\n",
    "\n",
    "predicciones_bosque_aleatorio = modelo_bosque_aleatorio.predict(X_test)\n",
    "mse_bosque_aleatorio = mean_squared_error(y_test, predicciones_bosque_aleatorio)\n",
    "r2_bosque_aleatorio = r2_score(y_test, predicciones_bosque_aleatorio)\n",
    "\n",
    "print(\"Regresión lineal:\")\n",
    "print(\"MSE:\", mse_regresion_lineal)\n",
    "print(\"R2:\", r2_regresion_lineal)\n",
    "\n",
    "print(\"\\nÁrbol de decisión:\")\n",
    "print(\"MSE:\", mse_arbol_decision)\n",
    "print(\"R2:\", r2_arbol_decision)\n",
    "\n",
    "print(\"\\nBosque aleatorio:\")\n",
    "print(\"MSE:\", mse_bosque_aleatorio)\n",
    "print(\"R2:\", r2_bosque_aleatorio)"
   ]
  },
  {
   "cell_type": "code",
   "execution_count": 23,
   "id": "fb77e726-e119-467a-bc46-bf4759c67751",
   "metadata": {
    "tags": []
   },
   "outputs": [],
   "source": [
    "def visualiza_resultados():\n",
    "    resultados = pd.DataFrame({\n",
    "        'Modelo': ['Regresión lineal', 'Árbol de decisión', 'Bosque aleatorio'],\n",
    "        'MSE': [mse_regresion_lineal, mse_arbol_decision, mse_bosque_aleatorio],\n",
    "        'R2': [r2_regresion_lineal, r2_arbol_decision, r2_bosque_aleatorio]\n",
    "    })\n",
    "\n",
    "    colors = ['#0077b6', '#9370DB', '#DDA0DD']\n",
    "    \n",
    "    plt.figure(figsize=(10.256, 5))\n",
    "    plt.bar(resultados['Modelo'], resultados['MSE'], color = colors)\n",
    "    plt.title('Error Cuadrático Medio (MSE)')\n",
    "    plt.xlabel('Modelo')\n",
    "    plt.ylabel('MSE')\n",
    "    plt.show()\n",
    "\n",
    "    plt.figure(figsize=(10, 5))\n",
    "    plt.bar(resultados['Modelo'], resultados['R2'], color = colors)\n",
    "    plt.title('Coeficiente de Determinación (R2)')\n",
    "    plt.xlabel('Modelo')\n",
    "    plt.ylabel('R2')\n",
    "    plt.show()"
   ]
  },
  {
   "cell_type": "code",
   "execution_count": 24,
   "id": "191c76f3-dc3d-4ed3-9821-2bb69f05dae4",
   "metadata": {
    "tags": []
   },
   "outputs": [
    {
     "data": {
      "image/png": "[encoded data removed]",
      "text/plain": [
       "<Figure size 1025.6x500 with 1 Axes>"
      ]
     },
     "metadata": {},
     "output_type": "display_data"
    },
    {
     "data": {
      "image/png": "[encoded data removed]",
      "text/plain": [
       "<Figure size 1000x500 with 1 Axes>"
      ]
     },
     "metadata": {},
     "output_type": "display_data"
    }
   ],
   "source": [
    "visualiza_resultados()"
   ]
  },
  {
   "cell_type": "code",
   "execution_count": 25,
   "id": "66af5651-6727-4dae-a8ae-27a04b4aa29c",
   "metadata": {
    "tags": []
   },
   "outputs": [],
   "source": [
    "from sklearn.linear_model import LogisticRegression"
   ]
  },
  {
   "cell_type": "code",
   "execution_count": 26,
   "id": "77a6d068-369b-436d-b257-eef15d3d1928",
   "metadata": {
    "tags": []
   },
   "outputs": [
    {
     "name": "stderr",
     "output_type": "stream",
     "text": [
      "C:\\ProgramData\\anaconda3\\Lib\\site-packages\\sklearn\\linear_model\\_logistic.py:460: ConvergenceWarning: lbfgs failed to converge (status=1):\n",
      "STOP: TOTAL NO. of ITERATIONS REACHED LIMIT.\n",
      "\n",
      "Increase the number of iterations (max_iter) or scale the data as shown in:\n",
      "    https://scikit-learn.org/stable/modules/preprocessing.html\n",
      "Please also refer to the documentation for alternative solver options:\n",
      "    https://scikit-learn.org/stable/modules/linear_model.html#logistic-regression\n",
      "  n_iter_i = _check_optimize_result(\n"
     ]
    },
    {
     "data": {
      "text/html": [
       "<style>#sk-container-id-1 {color: black;}#sk-container-id-1 pre{padding: 0;}#sk-container-id-1 div.sk-toggleable {background-color: white;}#sk-container-id-1 label.sk-toggleable__label {cursor: pointer;display: block;width: 100%;margin-bottom: 0;padding: 0.3em;box-sizing: border-box;text-align: center;}#sk-container-id-1 label.sk-toggleable__label-arrow:before {content: \"▸\";float: left;margin-right: 0.25em;color: #696969;}#sk-container-id-1 label.sk-toggleable__label-arrow:hover:before {color: black;}#sk-container-id-1 div.sk-estimator:hover label.sk-toggleable__label-arrow:before {color: black;}#sk-container-id-1 div.sk-toggleable__content {max-height: 0;max-width: 0;overflow: hidden;text-align: left;background-color: #f0f8ff;}#sk-container-id-1 div.sk-toggleable__content pre {margin: 0.2em;color: black;border-radius: 0.25em;background-color: #f0f8ff;}#sk-container-id-1 input.sk-toggleable__control:checked~div.sk-toggleable__content {max-height: 200px;max-width: 100%;overflow: auto;}#sk-container-id-1 input.sk-toggleable__control:checked~label.sk-toggleable__label-arrow:before {content: \"▾\";}#sk-container-id-1 div.sk-estimator input.sk-toggleable__control:checked~label.sk-toggleable__label {background-color: #d4ebff;}#sk-container-id-1 div.sk-label input.sk-toggleable__control:checked~label.sk-toggleable__label {background-color: #d4ebff;}#sk-container-id-1 input.sk-hidden--visually {border: 0;clip: rect(1px 1px 1px 1px);clip: rect(1px, 1px, 1px, 1px);height: 1px;margin: -1px;overflow: hidden;padding: 0;position: absolute;width: 1px;}#sk-container-id-1 div.sk-estimator {font-family: monospace;background-color: #f0f8ff;border: 1px dotted black;border-radius: 0.25em;box-sizing: border-box;margin-bottom: 0.5em;}#sk-container-id-1 div.sk-estimator:hover {background-color: #d4ebff;}#sk-container-id-1 div.sk-parallel-item::after {content: \"\";width: 100%;border-bottom: 1px solid gray;flex-grow: 1;}#sk-container-id-1 div.sk-label:hover label.sk-toggleable__label {background-color: #d4ebff;}#sk-container-id-1 div.sk-serial::before {content: \"\";position: absolute;border-left: 1px solid gray;box-sizing: border-box;top: 0;bottom: 0;left: 50%;z-index: 0;}#sk-container-id-1 div.sk-serial {display: flex;flex-direction: column;align-items: center;background-color: white;padding-right: 0.2em;padding-left: 0.2em;position: relative;}#sk-container-id-1 div.sk-item {position: relative;z-index: 1;}#sk-container-id-1 div.sk-parallel {display: flex;align-items: stretch;justify-content: center;background-color: white;position: relative;}#sk-container-id-1 div.sk-item::before, #sk-container-id-1 div.sk-parallel-item::before {content: \"\";position: absolute;border-left: 1px solid gray;box-sizing: border-box;top: 0;bottom: 0;left: 50%;z-index: -1;}#sk-container-id-1 div.sk-parallel-item {display: flex;flex-direction: column;z-index: 1;position: relative;background-color: white;}#sk-container-id-1 div.sk-parallel-item:first-child::after {align-self: flex-end;width: 50%;}#sk-container-id-1 div.sk-parallel-item:last-child::after {align-self: flex-start;width: 50%;}#sk-container-id-1 div.sk-parallel-item:only-child::after {width: 0;}#sk-container-id-1 div.sk-dashed-wrapped {border: 1px dashed gray;margin: 0 0.4em 0.5em 0.4em;box-sizing: border-box;padding-bottom: 0.4em;background-color: white;}#sk-container-id-1 div.sk-label label {font-family: monospace;font-weight: bold;display: inline-block;line-height: 1.2em;}#sk-container-id-1 div.sk-label-container {text-align: center;}#sk-container-id-1 div.sk-container {/* jupyter's `normalize.less` sets `[hidden] { display: none; }` but bootstrap.min.css set `[hidden] { display: none !important; }` so we also need the `!important` here to be able to override the default hidden behavior on the sphinx rendered scikit-learn.org. See: https://github.com/scikit-learn/scikit-learn/issues/21755 */display: inline-block !important;position: relative;}#sk-container-id-1 div.sk-text-repr-fallback {display: none;}</style><div id=\"sk-container-id-1\" class=\"sk-top-container\"><div class=\"sk-text-repr-fallback\"><pre>LogisticRegression()</pre><b>In a Jupyter environment, please rerun this cell to show the HTML representation or trust the notebook. <br />On GitHub, the HTML representation is unable to render, please try loading this page with nbviewer.org.</b></div><div class=\"sk-container\" hidden><div class=\"sk-item\"><div class=\"sk-estimator sk-toggleable\"><input class=\"sk-toggleable__control sk-hidden--visually\" id=\"sk-estimator-id-1\" type=\"checkbox\" checked><label for=\"sk-estimator-id-1\" class=\"sk-toggleable__label sk-toggleable__label-arrow\">LogisticRegression</label><div class=\"sk-toggleable__content\"><pre>LogisticRegression()</pre></div></div></div></div></div>"
      ],
      "text/plain": [
       "LogisticRegression()"
      ]
     },
     "execution_count": 26,
     "metadata": {},
     "output_type": "execute_result"
    }
   ],
   "source": [
    "model = LogisticRegression()\n",
    "model.fit(X_train, y_train)"
   ]
  },
  {
   "cell_type": "code",
   "execution_count": 27,
   "id": "3c05004b-c1fa-4065-970d-6b94d844f53a",
   "metadata": {
    "tags": []
   },
   "outputs": [
    {
     "name": "stdout",
     "output_type": "stream",
     "text": [
      "[699]\n"
     ]
    },
    {
     "name": "stderr",
     "output_type": "stream",
     "text": [
      "C:\\ProgramData\\anaconda3\\Lib\\site-packages\\sklearn\\base.py:464: UserWarning: X does not have valid feature names, but LogisticRegression was fitted with feature names\n",
      "  warnings.warn(\n"
     ]
    }
   ],
   "source": [
    "print(model.predict([[1, 5, 6, 1, 1]]))"
   ]
  },
  {
   "cell_type": "code",
   "execution_count": 28,
   "id": "058f251b-1094-40fd-877d-55422adf01a0",
   "metadata": {
    "tags": []
   },
   "outputs": [
    {
     "name": "stdout",
     "output_type": "stream",
     "text": [
      "[1]\n"
     ]
    },
    {
     "name": "stderr",
     "output_type": "stream",
     "text": [
      "C:\\ProgramData\\anaconda3\\Lib\\site-packages\\sklearn\\base.py:464: UserWarning: X does not have valid feature names, but LogisticRegression was fitted with feature names\n",
      "  warnings.warn(\n"
     ]
    }
   ],
   "source": [
    "print(model.predict([[17, 3, 3, 18, 17]]))"
   ]
  },
  {
   "cell_type": "code",
   "execution_count": 29,
   "id": "0fc2ebd2-9c7f-43fd-934f-c3d1ebb30c95",
   "metadata": {
    "tags": []
   },
   "outputs": [
    {
     "name": "stdout",
     "output_type": "stream",
     "text": [
      "[62]\n"
     ]
    },
    {
     "name": "stderr",
     "output_type": "stream",
     "text": [
      "C:\\ProgramData\\anaconda3\\Lib\\site-packages\\sklearn\\base.py:464: UserWarning: X does not have valid feature names, but LogisticRegression was fitted with feature names\n",
      "  warnings.warn(\n"
     ]
    }
   ],
   "source": [
    "print(model.predict([[2, 5, 5, 3, 2]]))"
   ]
  },
  {
   "cell_type": "code",
   "execution_count": 30,
   "id": "fcb08154-78ca-4a2f-aa20-bb95f457ba6f",
   "metadata": {
    "tags": []
   },
   "outputs": [],
   "source": [
    "import pickle"
   ]
  },
  {
   "cell_type": "code",
   "execution_count": 31,
   "id": "4d9168c5-afcf-4445-b18c-6297f8a65eb7",
   "metadata": {},
   "outputs": [],
   "source": [
    "pickle.dump(model, open('mymodel.sav', 'wb'))"
   ]
  },
  {
   "cell_type": "code",
   "execution_count": 32,
   "id": "7765d0fa-7788-42e2-ba89-52b442de8a08",
   "metadata": {
    "tags": []
   },
   "outputs": [],
   "source": [
    "modelo_importado = pickle.load(open('mymodel.sav', 'rb'))"
   ]
  }
 ],
 "metadata": {
  "kernelspec": {
   "display_name": "Python 3 (ipykernel)",
   "language": "python",
   "name": "python3"
  },
  "language_info": {
   "codemirror_mode": {
    "name": "ipython",
    "version": 3
   },
   "file_extension": ".py",
   "mimetype": "text/x-python",
   "name": "python",
   "nbconvert_exporter": "python",
   "pygments_lexer": "ipython3",
   "version": "3.11.5"
  }
 },
 "nbformat": 4,
 "nbformat_minor": 5
}
